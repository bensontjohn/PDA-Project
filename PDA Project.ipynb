{
 "cells": [
  {
   "cell_type": "markdown",
   "metadata": {},
   "source": [
    "**Project 2019: Programming for Data Analysis.**"
   ]
  },
  {
   "cell_type": "markdown",
   "metadata": {},
   "source": [
    "The tasks to be carried out in this project are:\n",
    "\n",
    "1. Choose a real-world phenomenon that can be measured and for which you could\n",
    "collect at least one-hundred data points across at least four different variables.\n",
    "2. Investigate the types of variables involved, their likely distributions, and their\n",
    "relationships with each other.\n",
    "3. Synthesise/simulate a data set as closely matching their properties as possible.\n",
    "4.  Detail your research and implement the simulation in a Jupyter notebook – the\n",
    "data set itself can simply be displayed in an output cell within the notebook."
   ]
  },
  {
   "cell_type": "markdown",
   "metadata": {},
   "source": [
    "This project is based on the real world phenomenon of factors that improves increased lifestyle. Improved rates of survival from heart disease and cancer among older people in Ireland is leading to increased life expectancy however, lifestyle issues that may jeopardise these advances are:\n",
    "\n",
    "1. Smoking\n",
    "2. Drinking\n",
    "3. Inactivity\n",
    "4. Obesity\n",
    "\n",
    "This project uses Ppython script to calculate lifestyle risk. This script would be used to interpret data collected during a survey. The factors are discussed how they increase the risk of developing diseases "
   ]
  }
 ],
 "metadata": {
  "kernelspec": {
   "display_name": "Python 3",
   "language": "python",
   "name": "python3"
  },
  "language_info": {
   "codemirror_mode": {
    "name": "ipython",
    "version": 3
   },
   "file_extension": ".py",
   "mimetype": "text/x-python",
   "name": "python",
   "nbconvert_exporter": "python",
   "pygments_lexer": "ipython3",
   "version": "3.7.1"
  }
 },
 "nbformat": 4,
 "nbformat_minor": 2
}
