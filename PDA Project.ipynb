{
 "cells": [
  {
   "cell_type": "markdown",
   "metadata": {},
   "source": [
    "**Project 2019: Programming for Data Analysis.**"
   ]
  },
  {
   "cell_type": "markdown",
   "metadata": {},
   "source": [
    "The tasks to be carried out in this project are:\n",
    "\n",
    "1. Choose a real-world phenomenon that can be measured and for which you could\n",
    "collect at least one-hundred data points across at least four different variables.\n",
    "2. Investigate the types of variables involved, their likely distributions, and their\n",
    "relationships with each other.\n",
    "3. Synthesise/simulate a data set as closely matching their properties as possible.\n",
    "4.  Detail your research and implement the simulation in a Jupyter notebook – the\n",
    "data set itself can simply be displayed in an output cell within the notebook."
   ]
  },
  {
   "cell_type": "markdown",
   "metadata": {},
   "source": [
    "This project is based on the real world phenomenon of factors that improves increased lifestyle. Improved rates of survival from heart disease and cancer among older people in Ireland is leading to increased life expectancy however, lifestyle issues that may jeopardise these advances are:\n",
    "\n",
    "1. Smoking\n",
    "2. Drinking\n",
    "3. Inactivity\n",
    "4. Obesity\n",
    "\n",
    "This project uses Ppython script to calculate lifestyle risk. This script would be used to interpret data collected during a survey. The factors are discussed how they increase the risk of developing diseases "
   ]
  },
  {
   "cell_type": "markdown",
   "metadata": {},
   "source": [
    "**Smoking**"
   ]
  },
  {
   "cell_type": "markdown",
   "metadata": {},
   "source": [
    "Tobacco use is the leading cause of preventable death in Ireland with almost 6,000 smokers dying each year from tobacco related diseases.\n",
    "\n",
    "Current Smoking Prevalence\n",
    "• Males 24%, Females 21%\n",
    "• Highest among those aged 25-34 years\n",
    "• 864,000 current smokers in Ireland\n",
    "• 1,050,000 ex-smokers in Ireland"
   ]
  },
  {
   "cell_type": "markdown",
   "metadata": {},
   "source": [
    "**Drinking**"
   ]
  },
  {
   "cell_type": "markdown",
   "metadata": {},
   "source": [
    "The Healthy Ireland Survey 2015 found that:\n",
    "\n",
    "Men drink more frequently than women – 60% of men who drink do so at least weekly, compared with 46% of women.\n",
    "Men across all age groups drink more frequently than women, however the difference is smallest amongst those aged 15 to 24 (men: 42%, women: 36%) and 35 to 44 (men: 54%, women: 47%).\n",
    "Those drinking alcohol consume on average 5.6 standard drinks on a typical drinking occasion. The average is higher for men (7.2) than women (3.9).\n",
    "Three-quarters (75%) of men aged 15 to 24 who drink consume six or more standard drinks on a typical drinking occasion.\n",
    "Whilst prevalence of binge drinking declines with age, the extent of this decline is more substantial for women than men. Whilst over 1 in 3 men aged 65 and over who drink do so at this level on a typical drinking occasion (34%), fewer than 1 in 10 (9%) of women aged 65 and over who drink do so in this way.\n",
    "\n",
    "\n",
    "A uniform distribution of alcohol consumption between zero and twenty units per week is used for simulating alcohol consumption. Individuals who consume in excess of the maximum recommended weekly number of standard units where considered to be heavy drinkers. Individuals who comsumed the maximum weekly units or under where considered moderate drinkers."
   ]
  },
  {
   "cell_type": "markdown",
   "metadata": {},
   "source": [
    "**Inactivity**"
   ]
  },
  {
   "cell_type": "markdown",
   "metadata": {},
   "source": [
    "Investigators found that in 2016 more than a quarter of the global population - 1.4 billion people - were insufficiently active.\n",
    "\n",
    "In Ireland, almost four out of 10 women are not active enough, while the same is true for three in 10 men."
   ]
  },
  {
   "cell_type": "markdown",
   "metadata": {},
   "source": [
    "**Obsesity**"
   ]
  },
  {
   "cell_type": "markdown",
   "metadata": {},
   "source": [
    "Body Mass Index is a excellent indicator whether a person is overweight or underweight. It is calculated by dividing an individual's weight in Kilograms by the square of their height in metres.\n",
    "\n",
    "The average height of a man in Ireland is 177cm\n",
    "\n",
    "The average height of a woman in Ireland is 163cm\n",
    "\n",
    "The average weight of a man in Ireland is 80.7 kilograms and 72% of men are overweight\n",
    "\n",
    "The average weight of a woman in Ireland is 69 kilograms and 52% of women are overweight\n",
    "\n",
    "A normal distribution is used to simulate data to obtain mean heights and weights.\n",
    "\n",
    "Body Mass Categories are defined as follows:\n",
    "\n",
    "Underweight: <18.5\n",
    "Normal: 18.5 - 25\n",
    "Overweight: 25 - 30\n",
    "Obese: >30\n",
    "Underweight, overweight and obese individuals where considered to have a higher lifestyle risk than individuals of a normal weight."
   ]
  },
  {
   "cell_type": "code",
   "execution_count": null,
   "metadata": {},
   "outputs": [],
   "source": []
  }
 ],
 "metadata": {
  "kernelspec": {
   "display_name": "Python 3",
   "language": "python",
   "name": "python3"
  },
  "language_info": {
   "codemirror_mode": {
    "name": "ipython",
    "version": 3
   },
   "file_extension": ".py",
   "mimetype": "text/x-python",
   "name": "python",
   "nbconvert_exporter": "python",
   "pygments_lexer": "ipython3",
   "version": "3.7.1"
  }
 },
 "nbformat": 4,
 "nbformat_minor": 2
}
